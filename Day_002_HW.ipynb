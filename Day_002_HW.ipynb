{
 "cells": [
  {
   "cell_type": "markdown",
   "metadata": {},
   "source": [
    "## [作業目標]\n",
    "了解機器學習適合應用的領域與範疇。"
   ]
  },
  {
   "cell_type": "markdown",
   "metadata": {},
   "source": [
    "## [作業重點]\n",
    "透過瞭解機器學習的運作方式，找出非常適用機器學習應用的領域及其原因"
   ]
  },
  {
   "cell_type": "markdown",
   "metadata": {},
   "source": [
    "## 作業\n",
    "請找出一個你認為機器學習可以發光發熱的領域並闡述原因? "
   ]
  },
  {
   "cell_type": "markdown",
   "metadata": {},
   "source": [
    "## Answer\n",
    "廣告投放渠道/平台\n",
    "每個人的購買習性 (消費習慣)都深受每個人的個性所影響，個性使得人在做決定時會遵循特定規律;\n",
    "此規律就是人類尚無法找到一個方式來計算和表示的 獨有個性方程式。\n",
    "\n",
    "透過機器學習配合現有Fintech的風潮，收集到極大量的消費行為資料來進行訓練，\n",
    "將可實現極高的投放針對性廣告的精準度和成交率 (投放符合個性的產品廣告)。\n",
    "\n",
    "利用分群來細分各個不同國家不同族群的消費習慣以及對廣告種類偏好，\n",
    "不但可以降低無用廣告的成本，同時也能提高單位時間的有效傳播。\n",
    "\n",
    "當有了針對個人的\"正確廣告\"，各家產品商家就必須對有限的廣告投放渠道進行競爭 (各大主流入口平台: Google / FB / Youtube)，\n",
    "來使廣告能順利出現在消費者的注意力中。\n",
    "\n",
    "個人認為這也是當前社群平台紛紛朝著AI方向大力投資和積極進行開發的主要原因之一。\n",
    "有一天電腦將有能力告訴企業主該做什麼樣的廣告行銷來賣出產品，剩下要考量的點就是用\"正確的方式\"接觸消費者。"
   ]
  }
 ],
 "metadata": {
  "kernelspec": {
   "display_name": "Python 3",
   "language": "python",
   "name": "python3"
  },
  "language_info": {
   "codemirror_mode": {
    "name": "ipython",
    "version": 3
   },
   "file_extension": ".py",
   "mimetype": "text/x-python",
   "name": "python",
   "nbconvert_exporter": "python",
   "pygments_lexer": "ipython3",
   "version": "3.7.3"
  }
 },
 "nbformat": 4,
 "nbformat_minor": 2
}
